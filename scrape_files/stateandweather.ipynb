{
 "cells": [
  {
   "cell_type": "code",
   "execution_count": 2,
   "metadata": {},
   "outputs": [],
   "source": [
    "import pandas as pd\n",
    "import json"
   ]
  },
  {
   "cell_type": "code",
   "execution_count": 3,
   "metadata": {},
   "outputs": [],
   "source": [
    "# statedata = pd.read_json(\"../resources/data/alldata_dict.json\")\n",
    "# weatherdata = pd.read_json(\"../resources/data/master_dict.json\")"
   ]
  },
  {
   "cell_type": "code",
   "execution_count": 28,
   "metadata": {},
   "outputs": [
    {
     "output_type": "execute_result",
     "data": {
      "text/plain": [
       "         Name      Capital        Lat         Lng  State  Population  \\\n",
       "0     Alabama   Montgomery  32.377716  -86.300568      1   4876250.0   \n",
       "1      Alaska       Juneau  58.301598 -134.420212      2    737068.0   \n",
       "2     Arizona      Phoenix  33.448143 -112.096962      4   7050299.0   \n",
       "3    Arkansas  Little Rock  34.746613  -92.288986      5   2999370.0   \n",
       "4  California   Sacramento  38.576668 -121.493629      6  39283497.0   \n",
       "\n",
       "   Median Age  Household Income  Per Capita Income  Poverty Count  \\\n",
       "0        39.0           50536.0            27928.0       795989.0   \n",
       "1        34.3           77640.0            36787.0        76933.0   \n",
       "2        37.7           58945.0            30694.0      1043764.0   \n",
       "3        38.1           47597.0            26577.0       496260.0   \n",
       "4        36.5           75235.0            36955.0      5149742.0   \n",
       "\n",
       "   Poverty Rate  \n",
       "0     16.323794  \n",
       "1     10.437707  \n",
       "2     14.804535  \n",
       "3     16.545475  \n",
       "4     13.109174  "
      ],
      "text/html": "<div>\n<style scoped>\n    .dataframe tbody tr th:only-of-type {\n        vertical-align: middle;\n    }\n\n    .dataframe tbody tr th {\n        vertical-align: top;\n    }\n\n    .dataframe thead th {\n        text-align: right;\n    }\n</style>\n<table border=\"1\" class=\"dataframe\">\n  <thead>\n    <tr style=\"text-align: right;\">\n      <th></th>\n      <th>Name</th>\n      <th>Capital</th>\n      <th>Lat</th>\n      <th>Lng</th>\n      <th>State</th>\n      <th>Population</th>\n      <th>Median Age</th>\n      <th>Household Income</th>\n      <th>Per Capita Income</th>\n      <th>Poverty Count</th>\n      <th>Poverty Rate</th>\n    </tr>\n  </thead>\n  <tbody>\n    <tr>\n      <th>0</th>\n      <td>Alabama</td>\n      <td>Montgomery</td>\n      <td>32.377716</td>\n      <td>-86.300568</td>\n      <td>1</td>\n      <td>4876250.0</td>\n      <td>39.0</td>\n      <td>50536.0</td>\n      <td>27928.0</td>\n      <td>795989.0</td>\n      <td>16.323794</td>\n    </tr>\n    <tr>\n      <th>1</th>\n      <td>Alaska</td>\n      <td>Juneau</td>\n      <td>58.301598</td>\n      <td>-134.420212</td>\n      <td>2</td>\n      <td>737068.0</td>\n      <td>34.3</td>\n      <td>77640.0</td>\n      <td>36787.0</td>\n      <td>76933.0</td>\n      <td>10.437707</td>\n    </tr>\n    <tr>\n      <th>2</th>\n      <td>Arizona</td>\n      <td>Phoenix</td>\n      <td>33.448143</td>\n      <td>-112.096962</td>\n      <td>4</td>\n      <td>7050299.0</td>\n      <td>37.7</td>\n      <td>58945.0</td>\n      <td>30694.0</td>\n      <td>1043764.0</td>\n      <td>14.804535</td>\n    </tr>\n    <tr>\n      <th>3</th>\n      <td>Arkansas</td>\n      <td>Little Rock</td>\n      <td>34.746613</td>\n      <td>-92.288986</td>\n      <td>5</td>\n      <td>2999370.0</td>\n      <td>38.1</td>\n      <td>47597.0</td>\n      <td>26577.0</td>\n      <td>496260.0</td>\n      <td>16.545475</td>\n    </tr>\n    <tr>\n      <th>4</th>\n      <td>California</td>\n      <td>Sacramento</td>\n      <td>38.576668</td>\n      <td>-121.493629</td>\n      <td>6</td>\n      <td>39283497.0</td>\n      <td>36.5</td>\n      <td>75235.0</td>\n      <td>36955.0</td>\n      <td>5149742.0</td>\n      <td>13.109174</td>\n    </tr>\n  </tbody>\n</table>\n</div>"
     },
     "metadata": {},
     "execution_count": 28
    }
   ],
   "source": [
    "statedata = pd.read_csv(\"../resources/data/alldata.csv\")\n",
    "statedata.head()"
   ]
  },
  {
   "cell_type": "code",
   "execution_count": 29,
   "metadata": {},
   "outputs": [],
   "source": [
    "# statedata = statedata.values.tolist()\n",
    "statedata = statedata.to_dict()"
   ]
  },
  {
   "cell_type": "code",
   "execution_count": 42,
   "metadata": {},
   "outputs": [
    {
     "output_type": "execute_result",
     "data": {
      "text/plain": [
       "dict_keys(['Name', 'Capital', 'Lat', 'Lng', 'State', 'Population', 'Median Age', 'Household Income', 'Per Capita Income', 'Poverty Count', 'Poverty Rate'])"
      ]
     },
     "metadata": {},
     "execution_count": 42
    }
   ],
   "source": [
    "statedata.keys()"
   ]
  },
  {
   "cell_type": "code",
   "execution_count": 47,
   "metadata": {},
   "outputs": [
    {
     "output_type": "stream",
     "name": "stdout",
     "text": [
      "{'Capital': {0: 'Montgomery',\n             1: 'Juneau',\n             2: 'Phoenix',\n             3: 'Little Rock',\n             4: 'Sacramento',\n             5: 'Denver',\n             6: 'Hartford',\n             7: 'Dover',\n             8: 'Honolulu',\n             9: 'Tallahassee',\n             10: 'Atlanta',\n             11: 'Boise',\n             12: 'Springfield',\n             13: 'Indianapolis',\n             14: 'Des Moines',\n             15: 'Topeka',\n             16: 'Frankfort',\n             17: 'Baton Rouge',\n             18: 'Augusta',\n             19: 'Annapolis',\n             20: 'Boston',\n             21: 'Lansing',\n             22: 'St. Paul',\n             23: 'Jackson',\n             24: 'Jefferson City',\n             25: 'Helena',\n             26: 'Lincoln',\n             27: 'Carson City',\n             28: 'Concord',\n             29: 'Trenton',\n             30: 'Santa Fe',\n             31: 'Raleigh',\n             32: 'Bismarck',\n             33: 'Albany',\n             34: 'Columbus',\n             35: 'Oklahoma City',\n             36: 'Salem',\n             37: 'Harrisburg',\n             38: 'Providence',\n             39: 'Columbia',\n             40: 'Pierre',\n             41: 'Nashville',\n             42: 'Austin',\n             43: 'Salt Lake City',\n             44: 'Montpelier',\n             45: 'Richmond',\n             46: 'Olympia',\n             47: 'Charleston',\n             48: 'Madison',\n             49: 'Cheyenne'},\n 'Household Income': {0: 50536.0,\n                      1: 77640.0,\n                      2: 58945.0,\n                      3: 47597.0,\n                      4: 75235.0,\n                      5: 72331.0,\n                      6: 78444.0,\n                      7: 68287.0,\n                      8: 81275.0,\n                      9: 55660.0,\n                      10: 58700.0,\n                      11: 55785.0,\n                      12: 65886.0,\n                      13: 56303.0,\n                      14: 60523.0,\n                      15: 59597.0,\n                      16: 50589.0,\n                      17: 49469.0,\n                      18: 57918.0,\n                      19: 84805.0,\n                      20: 81215.0,\n                      21: 57144.0,\n                      22: 71306.0,\n                      23: 45081.0,\n                      24: 55461.0,\n                      25: 54970.0,\n                      26: 61439.0,\n                      27: 60365.0,\n                      28: 76768.0,\n                      29: 82545.0,\n                      30: 49754.0,\n                      31: 54602.0,\n                      32: 64894.0,\n                      33: 68486.0,\n                      34: 56602.0,\n                      35: 52919.0,\n                      36: 62818.0,\n                      37: 61744.0,\n                      38: 67167.0,\n                      39: 53199.0,\n                      40: 58275.0,\n                      41: 53320.0,\n                      42: 61874.0,\n                      43: 71621.0,\n                      44: 61973.0,\n                      45: 74222.0,\n                      46: 73775.0,\n                      47: 46711.0,\n                      48: 61747.0,\n                      49: 64049.0},\n 'Lat': {0: 32.377716,\n         1: 58.301598,\n         2: 33.448143,\n         3: 34.746613,\n         4: 38.576668,\n         5: 39.739227,\n         6: 41.764046,\n         7: 39.157307,\n         8: 21.307442,\n         9: 30.438118,\n         10: 33.749027000000005,\n         11: 43.617775,\n         12: 39.798363,\n         13: 39.768623,\n         14: 41.591087,\n         15: 39.048190999999996,\n         16: 38.186721999999996,\n         17: 30.457069,\n         18: 44.307167,\n         19: 38.978764,\n         20: 42.358162,\n         21: 42.733635,\n         22: 44.955096999999995,\n         23: 32.303847999999995,\n         24: 38.579201,\n         25: 46.585709,\n         26: 40.808075,\n         27: 39.163914,\n         28: 43.206897999999995,\n         29: 40.220596,\n         30: 35.68224,\n         31: 35.780429999999996,\n         32: 46.82085,\n         33: 42.652843,\n         34: 39.961346,\n         35: 35.492207,\n         36: 44.938461,\n         37: 40.264378,\n         38: 41.830914,\n         39: 34.000343,\n         40: 44.367031,\n         41: 36.16581,\n         42: 30.27467,\n         43: 40.77747700000001,\n         44: 44.262436,\n         45: 37.538857,\n         46: 47.035804999999996,\n         47: 38.336246,\n         48: 43.07468400000001,\n         49: 41.140259},\n 'Lng': {0: -86.300568,\n         1: -134.42021200000002,\n         2: -112.096962,\n         3: -92.288986,\n         4: -121.493629,\n         5: -104.98485600000001,\n         6: -72.682198,\n         7: -75.519722,\n         8: -157.857376,\n         9: -84.281296,\n         10: -84.38822900000002,\n         11: -116.199722,\n         12: -89.654961,\n         13: -86.162643,\n         14: -93.603729,\n         15: -95.67795600000001,\n         16: -84.875374,\n         17: -91.187393,\n         18: -69.781693,\n         19: -76.490936,\n         20: -71.063698,\n         21: -84.555328,\n         22: -93.102211,\n         23: -90.182106,\n         24: -92.172935,\n         25: -112.018417,\n         26: -96.69965400000001,\n         27: -119.766121,\n         28: -71.537994,\n         29: -74.769913,\n         30: -105.939728,\n         31: -78.639099,\n         32: -100.78331800000001,\n         33: -73.757874,\n         34: -82.99906899999998,\n         35: -97.503342,\n         36: -123.030403,\n         37: -76.88359799999998,\n         38: -71.414963,\n         39: -81.033211,\n         40: -100.346405,\n         41: -86.78424100000002,\n         42: -97.740349,\n         43: -111.88823700000002,\n         44: -72.580536,\n         45: -77.43364,\n         46: -122.905014,\n         47: -81.612328,\n         48: -89.384445,\n         49: -104.820236},\n 'Median Age': {0: 39.0,\n                1: 34.3,\n                2: 37.7,\n                3: 38.1,\n                4: 36.5,\n                5: 36.7,\n                6: 41.0,\n                7: 40.6,\n                8: 39.1,\n                9: 42.0,\n                10: 36.7,\n                11: 36.4,\n                12: 38.1,\n                13: 37.7,\n                14: 38.2,\n                15: 36.7,\n                16: 38.9,\n                17: 36.9,\n                18: 44.7,\n                19: 38.7,\n                20: 39.5,\n                21: 39.7,\n                22: 38.0,\n                23: 37.5,\n                24: 38.6,\n                25: 39.9,\n                26: 36.5,\n                27: 38.0,\n                28: 42.9,\n                29: 39.9,\n                30: 37.8,\n                31: 38.7,\n                32: 35.1,\n                33: 38.8,\n                34: 39.4,\n                35: 36.6,\n                36: 39.3,\n                37: 40.8,\n                38: 39.9,\n                39: 39.4,\n                40: 37.0,\n                41: 38.7,\n                42: 34.6,\n                43: 30.8,\n                44: 42.9,\n                45: 38.2,\n                46: 37.7,\n                47: 42.5,\n                48: 39.5,\n                49: 37.7},\n 'Name': {0: 'Alabama',\n          1: 'Alaska',\n          2: 'Arizona',\n          3: 'Arkansas',\n          4: 'California',\n          5: 'Colorado',\n          6: 'Connecticut',\n          7: 'Delaware',\n          8: 'Hawaii',\n          9: 'Florida',\n          10: 'Georgia',\n          11: 'Idaho',\n          12: 'Illinois',\n          13: 'Indiana',\n          14: 'Iowa',\n          15: 'Kansas',\n          16: 'Kentucky',\n          17: 'Louisiana',\n          18: 'Maine',\n          19: 'Maryland',\n          20: 'Massachusetts',\n          21: 'Michigan',\n          22: 'Minnesota',\n          23: 'Mississippi',\n          24: 'Missouri',\n          25: 'Montana',\n          26: 'Nebraska',\n          27: 'Nevada',\n          28: 'New Hampshire',\n          29: 'New Jersey',\n          30: 'New Mexico',\n          31: 'North Carolina',\n          32: 'North Dakota',\n          33: 'New York',\n          34: 'Ohio',\n          35: 'Oklahoma',\n          36: 'Oregon',\n          37: 'Pennsylvania',\n          38: 'Rhode Island',\n          39: 'South Carolina',\n          40: 'South Dakota',\n          41: 'Tennessee',\n          42: 'Texas',\n          43: 'Utah',\n          44: 'Vermont',\n          45: 'Virginia',\n          46: 'Washington',\n          47: 'West Virginia',\n          48: 'Wisconsin',\n          49: 'Wyoming'},\n 'Per Capita Income': {0: 27928.0,\n                       1: 36787.0,\n                       2: 30694.0,\n                       3: 26577.0,\n                       4: 36955.0,\n                       5: 38226.0,\n                       6: 44496.0,\n                       7: 35450.0,\n                       8: 35567.0,\n                       9: 31619.0,\n                       10: 31067.0,\n                       11: 27970.0,\n                       12: 36038.0,\n                       13: 29777.0,\n                       14: 32176.0,\n                       15: 31814.0,\n                       16: 28178.0,\n                       17: 27923.0,\n                       18: 32637.0,\n                       19: 42122.0,\n                       20: 43761.0,\n                       21: 31713.0,\n                       22: 37625.0,\n                       23: 24369.0,\n                       24: 30810.0,\n                       25: 31151.0,\n                       26: 32302.0,\n                       27: 31557.0,\n                       28: 40003.0,\n                       29: 42745.0,\n                       30: 27230.0,\n                       31: 30783.0,\n                       32: 36062.0,\n                       33: 39326.0,\n                       34: 31552.0,\n                       35: 28422.0,\n                       36: 33763.0,\n                       37: 34352.0,\n                       38: 36121.0,\n                       39: 29426.0,\n                       40: 30773.0,\n                       41: 29859.0,\n                       42: 31277.0,\n                       43: 29775.0,\n                       44: 34577.0,\n                       45: 39278.0,\n                       46: 38915.0,\n                       47: 26480.0,\n                       48: 33375.0,\n                       49: 33366.0},\n 'Population': {0: 4876250.0,\n                1: 737068.0,\n                2: 7050299.0,\n                3: 2999370.0,\n                4: 39283497.0,\n                5: 5610349.0,\n                6: 3575074.0,\n                7: 957248.0,\n                8: 1422094.0,\n                9: 20901636.0,\n                10: 10403847.0,\n                11: 1717750.0,\n                12: 12770631.0,\n                13: 6665703.0,\n                14: 3139508.0,\n                15: 2910652.0,\n                16: 4449052.0,\n                17: 4664362.0,\n                18: 1335492.0,\n                19: 6018848.0,\n                20: 6850553.0,\n                21: 9965265.0,\n                22: 5563378.0,\n                23: 2984418.0,\n                24: 6104910.0,\n                25: 1050649.0,\n                26: 1914571.0,\n                27: 2972382.0,\n                28: 1348124.0,\n                29: 8878503.0,\n                30: 2092454.0,\n                31: 10264876.0,\n                32: 756717.0,\n                33: 19572319.0,\n                34: 11655397.0,\n                35: 3932870.0,\n                36: 4129803.0,\n                37: 12791530.0,\n                38: 1057231.0,\n                39: 5020806.0,\n                40: 870638.0,\n                41: 6709356.0,\n                42: 28260856.0,\n                43: 3096848.0,\n                44: 624313.0,\n                45: 8454463.0,\n                46: 7404107.0,\n                47: 1817305.0,\n                48: 5790716.0,\n                49: 581024.0},\n 'Poverty Count': {0: 795989.0,\n                   1: 76933.0,\n                   2: 1043764.0,\n                   3: 496260.0,\n                   4: 5149742.0,\n                   5: 565873.0,\n                   6: 344146.0,\n                   7: 109400.0,\n                   8: 130649.0,\n                   9: 2870487.0,\n                   10: 1528558.0,\n                   11: 221256.0,\n                   12: 1557873.0,\n                   13: 867996.0,\n                   14: 348122.0,\n                   15: 337739.0,\n                   16: 747010.0,\n                   17: 871467.0,\n                   18: 153131.0,\n                   19: 539991.0,\n                   20: 680962.0,\n                   21: 1398527.0,\n                   22: 526065.0,\n                   23: 585786.0,\n                   24: 810045.0,\n                   25: 134605.0,\n                   26: 206579.0,\n                   27: 384690.0,\n                   28: 98682.0,\n                   29: 869081.0,\n                   30: 392065.0,\n                   31: 1467591.0,\n                   32: 78198.0,\n                   33: 2681277.0,\n                   34: 1588343.0,\n                   35: 598373.0,\n                   36: 533527.0,\n                   37: 1539183.0,\n                   38: 125826.0,\n                   39: 741650.0,\n                   40: 110553.0,\n                   41: 996930.0,\n                   42: 4072194.0,\n                   43: 298537.0,\n                   44: 65652.0,\n                   45: 865691.0,\n                   46: 785244.0,\n                   47: 310044.0,\n                   48: 639160.0,\n                   49: 62257.0},\n 'Poverty Rate': {0: 16.323793899000258,\n                  1: 10.437707240037554,\n                  2: 14.804535240278465,\n                  3: 16.545474549655427,\n                  4: 13.109174063602335,\n                  5: 10.086235276985445,\n                  6: 9.626262281563962,\n                  7: 11.428595306545427,\n                  8: 9.187086085729916,\n                  9: 13.733312550271185,\n                  10: 14.692238361444574,\n                  11: 12.880570513753455,\n                  12: 12.198872553752437,\n                  13: 13.021822304414105,\n                  14: 11.088425320145703,\n                  15: 11.603551369246476,\n                  16: 16.790318476835065,\n                  17: 18.68351984687295,\n                  18: 11.466261123241472,\n                  19: 8.971667003386695,\n                  20: 9.940248619345036,\n                  21: 14.034017158600399,\n                  22: 9.455855776831989,\n                  23: 19.628148603848384,\n                  24: 13.268745976599163,\n                  25: 12.811605017470152,\n                  26: 10.789832291411495,\n                  27: 12.942145390464615,\n                  28: 7.319949796902954,\n                  29: 9.788598370693796,\n                  30: 18.7370905166852,\n                  31: 14.297211188912561,\n                  32: 10.333850039050263,\n                  33: 13.699332204834798,\n                  34: 13.627532378347988,\n                  35: 15.214665117331615,\n                  36: 12.918945528394456,\n                  37: 12.032829536419802,\n                  38: 11.901467134429467,\n                  39: 14.771532698136516,\n                  40: 12.697929564296524,\n                  41: 14.858803139973496,\n                  42: 14.409308762622054,\n                  43: 9.64002753767702,\n                  44: 10.51587905425644,\n                  45: 10.239455776197733,\n                  46: 10.6055193421705,\n                  47: 17.06064749725555,\n                  48: 11.037667880794015,\n                  49: 10.715047915404528},\n 'State': {0: 1,\n           1: 2,\n           2: 4,\n           3: 5,\n           4: 6,\n           5: 8,\n           6: 9,\n           7: 10,\n           8: 15,\n           9: 12,\n           10: 13,\n           11: 16,\n           12: 17,\n           13: 18,\n           14: 19,\n           15: 20,\n           16: 21,\n           17: 22,\n           18: 23,\n           19: 24,\n           20: 25,\n           21: 26,\n           22: 27,\n           23: 28,\n           24: 29,\n           25: 30,\n           26: 31,\n           27: 32,\n           28: 33,\n           29: 34,\n           30: 35,\n           31: 37,\n           32: 38,\n           33: 36,\n           34: 39,\n           35: 40,\n           36: 41,\n           37: 42,\n           38: 44,\n           39: 45,\n           40: 46,\n           41: 47,\n           42: 48,\n           43: 49,\n           44: 50,\n           45: 51,\n           46: 53,\n           47: 54,\n           48: 55,\n           49: 56}}\n"
     ]
    }
   ],
   "source": [
    "from pprint import pprint\n",
    "pprint(statedata)"
   ]
  },
  {
   "cell_type": "code",
   "execution_count": 49,
   "metadata": {},
   "outputs": [
    {
     "output_type": "execute_result",
     "data": {
      "text/plain": [
       "<bound method DataFrame.to_dict of                                                         alabama  \\\n",
       "average high  {'jan': 57.0, 'feb': 62.0, 'mar': 70.0, 'apr':...   \n",
       "average low   {'jan': 36.0, 'feb': 39.0, 'mar': 45.0, 'apr':...   \n",
       "average rain  {'jan': 4.65, 'feb': 5.28, 'mar': 5.95, 'apr':...   \n",
       "Capital                                              montgomery   \n",
       "bitch?                                                      NaN   \n",
       "\n",
       "                                                         alaska  \\\n",
       "average high  {'jan': 33.0, 'feb': 35.0, 'mar': 40.0, 'apr':...   \n",
       "average low   {'jan': 24.0, 'feb': 25.0, 'mar': 28.0, 'apr':...   \n",
       "average rain  {'jan': 5.35, 'feb': 4.13, 'mar': 3.7800000000...   \n",
       "Capital                                                  juneau   \n",
       "bitch?                                                      NaN   \n",
       "\n",
       "                                                        arizona  \\\n",
       "average high  {'jan': 67.0, 'feb': 71.0, 'mar': 77.0, 'apr':...   \n",
       "average low   {'jan': 46.0, 'feb': 49.0, 'mar': 53.0, 'apr':...   \n",
       "average rain  {'jan': 4.0, 'feb': 4.0, 'mar': 3.0, 'apr': 2....   \n",
       "Capital                                                 phoenix   \n",
       "bitch?                                                      NaN   \n",
       "\n",
       "                                                       arkansas  \\\n",
       "average high  {'jan': 51.0, 'feb': 55.0, 'mar': 64.0, 'apr':...   \n",
       "average low   {'jan': 32.0, 'feb': 35.0, 'mar': 43.0, 'apr':...   \n",
       "average rain  {'jan': 8.0, 'feb': 9.0, 'mar': 9.0, 'apr': 11...   \n",
       "Capital                                             little_rock   \n",
       "bitch?                                                      NaN   \n",
       "\n",
       "                                                     california  \\\n",
       "average high  {'jan': 54.0, 'feb': 60.0, 'mar': 65.0, 'apr':...   \n",
       "average low   {'jan': 39.0, 'feb': 41.0, 'mar': 44.0, 'apr':...   \n",
       "average rain  {'jan': 3.64, 'feb': 3.47, 'mar': 2.75, 'apr':...   \n",
       "Capital                                              sacramento   \n",
       "bitch?                                                      NaN   \n",
       "\n",
       "                                                       colorado  \\\n",
       "average high  {'jan': 45.0, 'feb': 46.0, 'mar': 54.0, 'apr':...   \n",
       "average low   {'jan': 18.0, 'feb': 19.0, 'mar': 27.0, 'apr':...   \n",
       "average rain  {'jan': 9999.0, 'feb': 9999.0, 'mar': 9999.0, ...   \n",
       "Capital                                                  denver   \n",
       "bitch?                                                      NaN   \n",
       "\n",
       "                                                    connecticut  \\\n",
       "average high  {'jan': 35.0, 'feb': 38.0, 'mar': 47.0, 'apr':...   \n",
       "average low   {'jan': 16.0, 'feb': 19.0, 'mar': 27.0, 'apr':...   \n",
       "average rain  {'jan': 3.66, 'feb': 2.64, 'mar': 3.62, 'apr':...   \n",
       "Capital                                                hartford   \n",
       "bitch?                                                      NaN   \n",
       "\n",
       "                                                       delaware  \\\n",
       "average high  {'jan': 43.0, 'feb': 47.0, 'mar': 55.0, 'apr':...   \n",
       "average low   {'jan': 27.0, 'feb': 29.0, 'mar': 36.0, 'apr':...   \n",
       "average rain  {'jan': 3.41, 'feb': 3.07, 'mar': 4.31, 'apr':...   \n",
       "Capital                                                   dover   \n",
       "bitch?                                                      NaN   \n",
       "\n",
       "                                                        florida  \\\n",
       "average high  {'jan': 64.0, 'feb': 67.0, 'mar': 74.0, 'apr':...   \n",
       "average low   {'jan': 39.0, 'feb': 42.0, 'mar': 47.0, 'apr':...   \n",
       "average rain  {'jan': 4.34, 'feb': 4.85, 'mar': 5.94, 'apr':...   \n",
       "Capital                                             tallahassee   \n",
       "bitch?                                                      NaN   \n",
       "\n",
       "                                                        georgia  ...  \\\n",
       "average high  {'jan': 61.0, 'feb': 52.0, 'mar': 72.0, 'apr':...  ...   \n",
       "average low   {'jan': 43.0, 'feb': 37.0, 'mar': 54.0, 'apr':...  ...   \n",
       "average rain  {'jan': 8.0, 'feb': 11.0, 'mar': 7.0, 'apr': 7...  ...   \n",
       "Capital                                                 atlanta  ...   \n",
       "bitch?                                                      NaN  ...   \n",
       "\n",
       "                                                   south-dakota  \\\n",
       "average high  {'jan': 30.0, 'feb': 35.0, 'mar': 45.0, 'apr':...   \n",
       "average low   {'jan': 10.0, 'feb': 14.0, 'mar': 24.0, 'apr':...   \n",
       "average rain  {'jan': 0.42, 'feb': 0.59, 'mar': 1.21, 'apr':...   \n",
       "Capital                                                  pierre   \n",
       "bitch?                                                      NaN   \n",
       "\n",
       "                                                      tennessee  \\\n",
       "average high  {'jan': 47.0, 'feb': 52.0, 'mar': 61.0, 'apr':...   \n",
       "average low   {'jan': 28.0, 'feb': 32.0, 'mar': 39.0, 'apr':...   \n",
       "average rain  {'jan': 12.0, 'feb': 11.0, 'mar': 12.0, 'apr':...   \n",
       "Capital                                               nashville   \n",
       "bitch?                                                      NaN   \n",
       "\n",
       "                                                          texas  \\\n",
       "average high  {'jan': 62.0, 'feb': 65.0, 'mar': 72.0, 'apr':...   \n",
       "average low   {'jan': 42.0, 'feb': 45.0, 'mar': 51.0, 'apr':...   \n",
       "average rain  {'jan': 2.22, 'feb': 2.02, 'mar': 2.76, 'apr':...   \n",
       "Capital                                                  austin   \n",
       "bitch?                                                      NaN   \n",
       "\n",
       "                                                           utah  \\\n",
       "average high  {'jan': 38.0, 'feb': 44.0, 'mar': 53.0, 'apr':...   \n",
       "average low   {'jan': 26.0, 'feb': 31.0, 'mar': 38.0, 'apr':...   \n",
       "average rain  {'jan': 10.0, 'feb': 9.0, 'mar': 10.0, 'apr': ...   \n",
       "Capital                                          salt_lake_city   \n",
       "bitch?                                                      NaN   \n",
       "\n",
       "                                                        vermont  \\\n",
       "average high  {'jan': 26.0, 'feb': 30.0, 'mar': 39.0, 'apr':...   \n",
       "average low   {'jan': 7.0, 'feb': 10.0, 'mar': 19.0, 'apr': ...   \n",
       "average rain  {'jan': 2.45, 'feb': 2.04, 'mar': 2.39, 'apr':...   \n",
       "Capital                                              montpelier   \n",
       "bitch?                                                      NaN   \n",
       "\n",
       "                                                       virginia  \\\n",
       "average high  {'jan': 47.0, 'feb': 51.0, 'mar': 60.0, 'apr':...   \n",
       "average low   {'jan': 28.0, 'feb': 31.0, 'mar': 37.0, 'apr':...   \n",
       "average rain  {'jan': 9.0, 'feb': 8.0, 'mar': 10.0, 'apr': 1...   \n",
       "Capital                                                richmond   \n",
       "bitch?                                                      NaN   \n",
       "\n",
       "                                                     washington  \\\n",
       "average high  {'jan': 46.0, 'feb': 49.0, 'mar': 54.0, 'apr':...   \n",
       "average low   {'jan': 34.0, 'feb': 33.0, 'mar': 35.0, 'apr':...   \n",
       "average rain  {'jan': 7.84, 'feb': 5.27, 'mar': 5.29, 'apr':...   \n",
       "Capital                                                 olympia   \n",
       "bitch?                                                      NaN   \n",
       "\n",
       "                                                  west-virginia  \\\n",
       "average high  {'jan': 42.0, 'feb': 47.0, 'mar': 56.0, 'apr':...   \n",
       "average low   {'jan': 26.0, 'feb': 29.0, 'mar': 35.0, 'apr':...   \n",
       "average rain  {'jan': 3.0, 'feb': 3.19, 'mar': 3.91, 'apr': ...   \n",
       "Capital                                              charleston   \n",
       "bitch?                                                      NaN   \n",
       "\n",
       "                                                      wisconsin  \\\n",
       "average high  {'jan': 26.0, 'feb': 31.0, 'mar': 43.0, 'apr':...   \n",
       "average low   {'jan': 11.0, 'feb': 15.0, 'mar': 25.0, 'apr':...   \n",
       "average rain  {'jan': 1.23, 'feb': 1.45, 'mar': 2.2, 'apr': ...   \n",
       "Capital                                                 madison   \n",
       "bitch?                                                      NaN   \n",
       "\n",
       "                                                        wyoming  \n",
       "average high  {'jan': 40.0, 'feb': 40.0, 'mar': 47.0, 'apr':...  \n",
       "average low   {'jan': 18.0, 'feb': 19.0, 'mar': 24.0, 'apr':...  \n",
       "average rain  {'jan': 4.0, 'feb': 6.0, 'mar': 8.0, 'apr': 10...  \n",
       "Capital                                                cheyenne  \n",
       "bitch?                                                      NaN  \n",
       "\n",
       "[5 rows x 50 columns]>"
      ]
     },
     "metadata": {},
     "execution_count": 49
    }
   ],
   "source": [
    "weatherdata = pd.read_json(\"../resources/data/master_dict.json\")\n",
    "weatherdata = weatherdata.to_dict\n",
    "weatherdata"
   ]
  },
  {
   "cell_type": "code",
   "execution_count": 12,
   "metadata": {},
   "outputs": [],
   "source": [
    "weatherdata = weatherdata.values.tolist()"
   ]
  },
  {
   "cell_type": "code",
   "execution_count": 15,
   "metadata": {},
   "outputs": [
    {
     "output_type": "execute_result",
     "data": {
      "text/plain": [
       "50"
      ]
     },
     "metadata": {},
     "execution_count": 15
    }
   ],
   "source": [
    "len(weatherdata[0])"
   ]
  },
  {
   "cell_type": "code",
   "execution_count": null,
   "metadata": {},
   "outputs": [],
   "source": []
  }
 ],
 "metadata": {
  "kernelspec": {
   "display_name": "Python 3",
   "language": "python",
   "name": "python3"
  },
  "language_info": {
   "codemirror_mode": {
    "name": "ipython",
    "version": 3
   },
   "file_extension": ".py",
   "mimetype": "text/x-python",
   "name": "python",
   "nbconvert_exporter": "python",
   "pygments_lexer": "ipython3",
   "version": "3.8.3-final"
  }
 },
 "nbformat": 4,
 "nbformat_minor": 4
}