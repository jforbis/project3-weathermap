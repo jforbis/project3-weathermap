{
 "cells": [
  {
   "cell_type": "code",
   "execution_count": 1,
   "metadata": {},
   "outputs": [],
   "source": [
    "import pandas as pd"
   ]
  },
  {
   "cell_type": "code",
   "execution_count": 11,
   "metadata": {},
   "outputs": [],
   "source": [
    "statedata = pd.read_csv(\"resources/data/states_info.csv\")\n",
    "statedata_df = pd.DataFrame(statedata)\n",
    "censusdata = pd.read_csv(\"resources/data/census_pd.csv\")\n",
    "censusdata_df = pd.DataFrame(censusdata)"
   ]
  },
  {
   "cell_type": "code",
   "execution_count": 13,
   "metadata": {},
   "outputs": [
    {
     "data": {
      "text/html": [
       "<div>\n",
       "<style scoped>\n",
       "    .dataframe tbody tr th:only-of-type {\n",
       "        vertical-align: middle;\n",
       "    }\n",
       "\n",
       "    .dataframe tbody tr th {\n",
       "        vertical-align: top;\n",
       "    }\n",
       "\n",
       "    .dataframe thead th {\n",
       "        text-align: right;\n",
       "    }\n",
       "</style>\n",
       "<table border=\"1\" class=\"dataframe\">\n",
       "  <thead>\n",
       "    <tr style=\"text-align: right;\">\n",
       "      <th></th>\n",
       "      <th>Name</th>\n",
       "      <th>Capital</th>\n",
       "      <th>Lat</th>\n",
       "      <th>Lng</th>\n",
       "      <th>State</th>\n",
       "      <th>Population</th>\n",
       "      <th>Median Age</th>\n",
       "      <th>Household Income</th>\n",
       "      <th>Per Capita Income</th>\n",
       "      <th>Poverty Count</th>\n",
       "      <th>Poverty Rate</th>\n",
       "    </tr>\n",
       "  </thead>\n",
       "  <tbody>\n",
       "    <tr>\n",
       "      <th>0</th>\n",
       "      <td>Alabama</td>\n",
       "      <td>Montgomery</td>\n",
       "      <td>32.377716</td>\n",
       "      <td>-86.300568</td>\n",
       "      <td>1</td>\n",
       "      <td>4876250.0</td>\n",
       "      <td>39.0</td>\n",
       "      <td>50536.0</td>\n",
       "      <td>27928.0</td>\n",
       "      <td>795989.0</td>\n",
       "      <td>16.323794</td>\n",
       "    </tr>\n",
       "    <tr>\n",
       "      <th>1</th>\n",
       "      <td>Alaska</td>\n",
       "      <td>Juneau</td>\n",
       "      <td>58.301598</td>\n",
       "      <td>-134.420212</td>\n",
       "      <td>2</td>\n",
       "      <td>737068.0</td>\n",
       "      <td>34.3</td>\n",
       "      <td>77640.0</td>\n",
       "      <td>36787.0</td>\n",
       "      <td>76933.0</td>\n",
       "      <td>10.437707</td>\n",
       "    </tr>\n",
       "    <tr>\n",
       "      <th>2</th>\n",
       "      <td>Arizona</td>\n",
       "      <td>Phoenix</td>\n",
       "      <td>33.448143</td>\n",
       "      <td>-112.096962</td>\n",
       "      <td>4</td>\n",
       "      <td>7050299.0</td>\n",
       "      <td>37.7</td>\n",
       "      <td>58945.0</td>\n",
       "      <td>30694.0</td>\n",
       "      <td>1043764.0</td>\n",
       "      <td>14.804535</td>\n",
       "    </tr>\n",
       "    <tr>\n",
       "      <th>3</th>\n",
       "      <td>Arkansas</td>\n",
       "      <td>Little Rock</td>\n",
       "      <td>34.746613</td>\n",
       "      <td>-92.288986</td>\n",
       "      <td>5</td>\n",
       "      <td>2999370.0</td>\n",
       "      <td>38.1</td>\n",
       "      <td>47597.0</td>\n",
       "      <td>26577.0</td>\n",
       "      <td>496260.0</td>\n",
       "      <td>16.545475</td>\n",
       "    </tr>\n",
       "    <tr>\n",
       "      <th>4</th>\n",
       "      <td>California</td>\n",
       "      <td>Sacramento</td>\n",
       "      <td>38.576668</td>\n",
       "      <td>-121.493629</td>\n",
       "      <td>6</td>\n",
       "      <td>39283497.0</td>\n",
       "      <td>36.5</td>\n",
       "      <td>75235.0</td>\n",
       "      <td>36955.0</td>\n",
       "      <td>5149742.0</td>\n",
       "      <td>13.109174</td>\n",
       "    </tr>\n",
       "  </tbody>\n",
       "</table>\n",
       "</div>"
      ],
      "text/plain": [
       "         Name      Capital        Lat         Lng  State  Population  \\\n",
       "0     Alabama   Montgomery  32.377716  -86.300568      1   4876250.0   \n",
       "1      Alaska       Juneau  58.301598 -134.420212      2    737068.0   \n",
       "2     Arizona      Phoenix  33.448143 -112.096962      4   7050299.0   \n",
       "3    Arkansas  Little Rock  34.746613  -92.288986      5   2999370.0   \n",
       "4  California   Sacramento  38.576668 -121.493629      6  39283497.0   \n",
       "\n",
       "   Median Age  Household Income  Per Capita Income  Poverty Count  \\\n",
       "0        39.0           50536.0            27928.0       795989.0   \n",
       "1        34.3           77640.0            36787.0        76933.0   \n",
       "2        37.7           58945.0            30694.0      1043764.0   \n",
       "3        38.1           47597.0            26577.0       496260.0   \n",
       "4        36.5           75235.0            36955.0      5149742.0   \n",
       "\n",
       "   Poverty Rate  \n",
       "0     16.323794  \n",
       "1     10.437707  \n",
       "2     14.804535  \n",
       "3     16.545475  \n",
       "4     13.109174  "
      ]
     },
     "execution_count": 13,
     "metadata": {},
     "output_type": "execute_result"
    }
   ],
   "source": [
    "alldata_df = pd.merge(statedata, censusdata, on=\"Name\")\n",
    "alldata_df.head()"
   ]
  },
  {
   "cell_type": "code",
   "execution_count": 23,
   "metadata": {},
   "outputs": [
    {
     "data": {
      "text/plain": [
       "Name                  object\n",
       "Capital               object\n",
       "Lat                  float64\n",
       "Lng                  float64\n",
       "State                  int64\n",
       "Population             int64\n",
       "Median Age             int64\n",
       "Household Income       int64\n",
       "Per Capita Income      int64\n",
       "Poverty Count          int64\n",
       "Poverty Rate         float64\n",
       "dtype: object"
      ]
     },
     "execution_count": 23,
     "metadata": {},
     "output_type": "execute_result"
    }
   ],
   "source": [
    "# df.astype({'col1': 'int32'}).dtypes\n",
    "alldata_df.astype({\"Population\":'int64', \"Median Age\":'int64', \"Household Income\":'int64', \n",
    "                   \"Per Capita Income\":'int64', \"Poverty Count\":'int64'}).dtypes"
   ]
  },
  {
   "cell_type": "code",
   "execution_count": 24,
   "metadata": {},
   "outputs": [],
   "source": [
    "# Saving to CSV\n",
    "alldata_df.to_csv(\"resources/data/alldata.csv\", index=False)"
   ]
  },
  {
   "cell_type": "code",
   "execution_count": null,
   "metadata": {},
   "outputs": [],
   "source": []
  }
 ],
 "metadata": {
  "kernelspec": {
   "display_name": "Python 3",
   "language": "python",
   "name": "python3"
  },
  "language_info": {
   "codemirror_mode": {
    "name": "ipython",
    "version": 3
   },
   "file_extension": ".py",
   "mimetype": "text/x-python",
   "name": "python",
   "nbconvert_exporter": "python",
   "pygments_lexer": "ipython3",
   "version": "3.8.3"
  }
 },
 "nbformat": 4,
 "nbformat_minor": 4
}
