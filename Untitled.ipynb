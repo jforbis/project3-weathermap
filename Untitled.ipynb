{
 "cells": [
  {
   "cell_type": "code",
   "execution_count": 1,
   "metadata": {},
   "outputs": [],
   "source": [
    "import pandas as pd\n"
   ]
  },
  {
   "cell_type": "code",
   "execution_count": 22,
   "metadata": {
    "scrolled": true
   },
   "outputs": [
    {
     "name": "stdout",
     "output_type": "stream",
     "text": [
      "['Alabama', 'Alaska', 'Arizona', 'Arkansas', 'California', 'Colorado', 'Connecticut', 'Delaware', 'Florida', 'Georgia', 'Hawaii', 'Idaho', 'Illinois', 'Indiana', 'Iowa', 'Kansas', 'Kentucky', 'Louisiana', 'Maine', 'Maryland', 'Massachusetts', 'Michigan', 'Minnesota', 'Mississippi', 'Missouri', 'Montana', 'Nebraska', 'Nevada', 'New Hampshire', 'New Jersey', 'New Mexico', 'New York', 'North Carolina', 'North Dakota', 'Ohio', 'Oklahoma', 'Oregon', 'Pennsylvania', 'Rhode Island', 'South Carolina', 'South Dakota', 'Tennessee', 'Texas', 'Utah', 'Vermont', 'Virginia', 'Washington', 'West Virginia', 'Wisconsin', 'Wyoming', '[18]']\n",
      "['Montgomery', 'Juneau', 'Phoenix', 'Little Rock', 'Sacramento', 'Denver', 'Hartford', 'Dover', 'Tallahassee', 'Atlanta', 'Honolulu', 'Boise', 'Springfield', 'Indianapolis', 'Des Moines', 'Topeka', 'Frankfort', 'Baton Rouge', 'Augusta', 'Annapolis', 'Boston', 'Lansing', 'Saint Paul', 'Jackson', 'Jefferson City', 'Helena', 'Lincoln', 'Carson City', 'Concord', 'Trenton', 'Santa Fe', 'Albany', 'Raleigh', 'Bismarck', 'Columbus', 'Oklahoma City', 'Salem', 'Harrisburg', 'Providence', 'Columbia', 'Pierre', 'Nashville', 'Austin', 'Salt Lake City', 'Montpelier', 'Richmond', 'Olympia', 'Charleston', 'Madison', 'Cheyenne', '[18]']\n"
     ]
    }
   ],
   "source": [
    "url = \"https://www.usclimatedata.com/climate/jefferson_city/missouri/united-states/\"\n",
    "\n",
    "master_dict = {}\n",
    "\n",
    "url1 = \"https://en.wikipedia.org/wiki/List_of_capitals_in_the_United_States\"\n",
    "\n",
    "state_names = pd.read_html(url1)\n",
    "\n",
    "state_namesdf = pd.DataFrame(state_names[1])\n",
    "states = list(state_namesdf[\"State\"][\"State\"])\n",
    "print(states)\n",
    "cities = list(state_namesdf[\"Capital\"][\"Capital\"])\n",
    "print(cities)\n",
    "# Go 1 less in For range"
   ]
  },
  {
   "cell_type": "code",
   "execution_count": 25,
   "metadata": {},
   "outputs": [
    {
     "name": "stdout",
     "output_type": "stream",
     "text": [
      "alaska\n",
      "arizona\n",
      "arkansas\n",
      "california\n",
      "colorado\n",
      "connecticut\n",
      "delaware\n",
      "florida\n",
      "georgia\n",
      "hawaii\n",
      "idaho\n",
      "illinois\n",
      "indiana\n",
      "iowa\n",
      "kansas\n",
      "kentucky\n",
      "louisiana\n",
      "maine\n",
      "maryland\n",
      "massachusetts\n",
      "michigan\n",
      "minnesota\n",
      "mississippi\n",
      "missouri\n",
      "montana\n",
      "nebraska\n",
      "nevada\n",
      "new_hampshire\n",
      "new_jersey\n",
      "new_mexico\n",
      "new_york\n",
      "north_carolina\n",
      "north_dakota\n",
      "ohio\n",
      "oklahoma\n",
      "oregon\n",
      "pennsylvania\n",
      "rhode_island\n",
      "south_carolina\n",
      "south_dakota\n",
      "tennessee\n",
      "texas\n",
      "utah\n",
      "vermont\n",
      "virginia\n",
      "washington\n",
      "west_virginia\n",
      "wisconsin\n",
      "wyoming\n"
     ]
    }
   ],
   "source": [
    "for i in range(1,(len(states)-1)):\n",
    "    state=states[i]\n",
    "    state = state.replace(\" \", \"_\").lower()\n",
    "    city=cities[i]\n",
    "    city = city.replace(\" \", \"_\").lower()\n",
    "    print(state)\n",
    "    url=\"https://www.usclimatedata.com/climate/\"+city+\"/\"+state+\"/united-states/\""
   ]
  },
  {
   "cell_type": "code",
   "execution_count": 8,
   "metadata": {},
   "outputs": [
    {
     "data": {
      "text/html": [
       "<div>\n",
       "<style scoped>\n",
       "    .dataframe tbody tr th:only-of-type {\n",
       "        vertical-align: middle;\n",
       "    }\n",
       "\n",
       "    .dataframe tbody tr th {\n",
       "        vertical-align: top;\n",
       "    }\n",
       "\n",
       "    .dataframe thead th {\n",
       "        text-align: right;\n",
       "    }\n",
       "</style>\n",
       "<table border=\"1\" class=\"dataframe\">\n",
       "  <thead>\n",
       "    <tr style=\"text-align: right;\">\n",
       "      <th></th>\n",
       "      <th>Unnamed: 0</th>\n",
       "      <th>JulJu</th>\n",
       "      <th>AugAu</th>\n",
       "      <th>SepSe</th>\n",
       "      <th>OctOc</th>\n",
       "      <th>NovNo</th>\n",
       "      <th>DecDe</th>\n",
       "    </tr>\n",
       "  </thead>\n",
       "  <tbody>\n",
       "    <tr>\n",
       "      <th>0</th>\n",
       "      <td>Average high in ºF Av. high Hi</td>\n",
       "      <td>88.00</td>\n",
       "      <td>88.00</td>\n",
       "      <td>80.00</td>\n",
       "      <td>69.00</td>\n",
       "      <td>56.00</td>\n",
       "      <td>43.00</td>\n",
       "    </tr>\n",
       "    <tr>\n",
       "      <th>1</th>\n",
       "      <td>Average low in ºF Av. low Lo</td>\n",
       "      <td>68.00</td>\n",
       "      <td>66.00</td>\n",
       "      <td>57.00</td>\n",
       "      <td>45.00</td>\n",
       "      <td>35.00</td>\n",
       "      <td>24.00</td>\n",
       "    </tr>\n",
       "    <tr>\n",
       "      <th>2</th>\n",
       "      <td>Av. precipitation in inch Av. precip. Pre.</td>\n",
       "      <td>4.31</td>\n",
       "      <td>4.04</td>\n",
       "      <td>4.16</td>\n",
       "      <td>3.34</td>\n",
       "      <td>3.61</td>\n",
       "      <td>2.73</td>\n",
       "    </tr>\n",
       "    <tr>\n",
       "      <th>3</th>\n",
       "      <td>Av. snowfall in inch Snowfall Sn</td>\n",
       "      <td>0.00</td>\n",
       "      <td>0.00</td>\n",
       "      <td>0.00</td>\n",
       "      <td>0.00</td>\n",
       "      <td>0.00</td>\n",
       "      <td>4.00</td>\n",
       "    </tr>\n",
       "  </tbody>\n",
       "</table>\n",
       "</div>"
      ],
      "text/plain": [
       "                                   Unnamed: 0  JulJu  AugAu  SepSe  OctOc  \\\n",
       "0              Average high in ºF Av. high Hi  88.00  88.00  80.00  69.00   \n",
       "1                Average low in ºF Av. low Lo  68.00  66.00  57.00  45.00   \n",
       "2  Av. precipitation in inch Av. precip. Pre.   4.31   4.04   4.16   3.34   \n",
       "3            Av. snowfall in inch Snowfall Sn   0.00   0.00   0.00   0.00   \n",
       "\n",
       "   NovNo  DecDe  \n",
       "0  56.00  43.00  \n",
       "1  35.00  24.00  \n",
       "2   3.61   2.73  \n",
       "3   0.00   4.00  "
      ]
     },
     "execution_count": 8,
     "metadata": {},
     "output_type": "execute_result"
    }
   ],
   "source": [
    "kansas = pd.read_html(url)\n",
    "kansas[1]\n",
    "kansasdf0 = pd.DataFrame(kansas[0])\n",
    "kansasdf0\n",
    "kansasdf1 = pd.DataFrame(kansas[1])\n",
    "kansasdf1"
   ]
  },
  {
   "cell_type": "code",
   "execution_count": 4,
   "metadata": {},
   "outputs": [
    {
     "data": {
      "text/plain": [
       "40.0"
      ]
     },
     "execution_count": 4,
     "metadata": {},
     "output_type": "execute_result"
    }
   ],
   "source": [
    "kansas_dict = {\n",
    "    \"average high\" : {\n",
    "        \"jan\" : kansasdf0.iloc[0,1]\n",
    "    }\n",
    "}\n",
    "kansas_dict[\"average high\"][\"jan\"]"
   ]
  },
  {
   "cell_type": "code",
   "execution_count": 5,
   "metadata": {},
   "outputs": [
    {
     "data": {
      "text/plain": [
       "{'kansas': {'average high': {'jan': 40.0}}}"
      ]
     },
     "execution_count": 5,
     "metadata": {},
     "output_type": "execute_result"
    }
   ],
   "source": [
    "master_dict[\"kansas\"] = kansas_dict\n",
    "master_dict"
   ]
  },
  {
   "cell_type": "code",
   "execution_count": null,
   "metadata": {},
   "outputs": [],
   "source": []
  }
 ],
 "metadata": {
  "kernelspec": {
   "display_name": "AdvancedPython",
   "language": "python",
   "name": "advancedpython"
  },
  "language_info": {
   "codemirror_mode": {
    "name": "ipython",
    "version": 3
   },
   "file_extension": ".py",
   "mimetype": "text/x-python",
   "name": "python",
   "nbconvert_exporter": "python",
   "pygments_lexer": "ipython3",
   "version": "3.8.3"
  }
 },
 "nbformat": 4,
 "nbformat_minor": 4
}
